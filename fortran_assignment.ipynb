{
 "cells": [
  {
   "cell_type": "markdown",
   "id": "48e42dd7",
   "metadata": {},
   "source": [
    " !['Logos' for AAU'](logo.png)"
   ]
  },
  {
   "cell_type": "markdown",
   "id": "22484099",
   "metadata": {},
   "source": [
    "<h2 style=\"text-align:center ; font-family: Playfair Display ; color:#0B9CD6\">Collage of Natural and Computational Sciences</h2>\n",
    "<h2 style=\"text-align:center ; font-family: Playfair Display ; color:#0B9CD6\">Computational Data Science Program(MSc)</h2>\n",
    "<h2 style=\"text-align:center; font-family: Playfair Display ;color:#0B9CD6\">Course Title: Introduction to Computational Science and Basics of Programming</h2>\n"
   ]
  },
  {
   "cell_type": "markdown",
   "id": "499046ab",
   "metadata": {},
   "source": [
    "<h3 style=\"color:#0B9CD6 ; font-family: Playfair Display \">Project Title:</h2>\n"
   ]
  },
  {
   "cell_type": "markdown",
   "id": "23ad6cf4",
   "metadata": {},
   "source": [
    "<h2 style=\"text-align:center ; font-family: Playfair Display ;color:#195A75  \">Simple Linear Regression to Predict Fuel Consumptions of Cars using Horsepower</h2>"
   ]
  },
  {
   "cell_type": "markdown",
   "id": "a3c57ded",
   "metadata": {},
   "source": [
    "<h4 style=\"text-align:center ;color:#195A75  \">using FORTRAN and Python</h2>"
   ]
  },
  {
   "cell_type": "markdown",
   "id": "787ad29c",
   "metadata": {},
   "source": [
    "<h4 style=\"text-align:right ;color:#195A75  \">By: Sineshaw Legese (GSR/9323/16 )</h2>"
   ]
  },
  {
   "cell_type": "markdown",
   "id": "f8ffd076",
   "metadata": {},
   "source": [
    "<h4 style=\"text-align:right ;color:#195A75  \">Submitted To: Addisu G. Semie, PhD</h4>\n",
    "<h4 style=\"text-align:right ;color:#195A75  \">Asst. Prof., Computational Data Science Program, Addis Ababa University</h4>"
   ]
  },
  {
   "cell_type": "markdown",
   "id": "9ba95737",
   "metadata": {},
   "source": []
  },
  {
   "cell_type": "markdown",
   "id": "229e0d6f",
   "metadata": {},
   "source": []
  },
  {
   "cell_type": "markdown",
   "id": "f468e235-42a4-4885-8f22-b90c1addecd6",
   "metadata": {},
   "source": [
    "### <font color='Green'>Description of the system </font> "
   ]
  },
  {
   "cell_type": "markdown",
   "id": "1f9a2043-c182-4766-bd82-bb22c0d1bacd",
   "metadata": {},
   "source": [
    ">This system aim to model the relationship between fuel consumption (mpg) and horsepower(fps).\n",
    "The goal is to figure out if changes in horsepower affect the fuel consumption of the cars. \n",
    "The system will examine statistical correlations between the measure of horsepower and the fuel consumptions .\n",
    "\n",
    ">I used some python code for the first part of the project and the main program is written in Fortran"
   ]
  },
  {
   "cell_type": "markdown",
   "id": "6bf7463f-cdb7-419d-aa6c-55314753c30f",
   "metadata": {},
   "source": [
    "### <font color='Green'>Mathematical Representation of the system</font> "
   ]
  },
  {
   "cell_type": "markdown",
   "id": "b222f6e9-88fb-46ca-ac6c-34f054bfd633",
   "metadata": {},
   "source": [
    ">Simple Linear Regression Model is used to represent and built model to predict the fuel consumption<br>\n",
    "$ \\hat{y} = \\beta _{o} + \\beta _{1}*x  $\n",
    "\n",
    "> In Our Case <br>\n",
    "$ Fuel Efficiency (mpg) = \\beta _{o} + \\beta _{1}*Horsepower (fps)   $\n",
    "\n",
    "><b>Where:</b><br>\n",
    "$\\hat{y}-$ dependent variable ( fuel efficiency )<br>\n",
    "$x-$ independent variable ( horsepower )<br>\n",
    "\n",
    "\n",
    ">$\\beta _{o}-$ y-intercept (constant term) <br>\n",
    "$\\beta _{1}$ slope or the coeffiecient of horsepower(the effect of horsepower)<br>"
   ]
  },
  {
   "cell_type": "markdown",
   "id": "5e7c729c-166d-405d-b560-d01ac3ad3369",
   "metadata": {},
   "source": [
    "> The goal is to estimate the parameters $\\beta_{0}$ and $\\beta_{1}$ that best represent the relationship between horsepower and mpg <br>\n",
    "\n",
    "> **Slope($\\beta_{1}$) :**  \n",
    "       &nbsp;&nbsp;&nbsp;&nbsp;$\\beta_{1} $ represents the change in the fuel consumption for each unit change in horsepower.<br>\n",
    "\n",
    "> $$ \\beta{1} = \\frac{\\sum (x-\\bar{x})(y - \\bar{y})} {\\sum(x-\\bar{x})^2} $$\n",
    "\n",
    "\n",
    "> **$y$-intercept($\\beta_{o}$) :**  \n",
    " &nbsp;estimates the fuel consumption when the horsepower is at its baseline (which may not be practically meaningful)<br>\n",
    "$ \\beta _{o} = \\hat{y} - \\beta _{1}*x $\n"
   ]
  },
  {
   "cell_type": "markdown",
   "id": "11da8ce7",
   "metadata": {},
   "source": [
    "### <font color='#097E7B'>Check Linearity Assumption</font> "
   ]
  },
  {
   "cell_type": "markdown",
   "id": "6d70008d",
   "metadata": {},
   "source": [
    ">The relationship between the independent variables and the dependent variable is assumed to be <font color=green>linear</font>. This means that changes in the independent variables are associated with a constant change in the dependent variable.\n",
    "\n",
    ">We can check this by two ways<br>\n",
    ">- [1] Measure the <font color=green> correlation</font> between independent and dependent variable.\n",
    ">- [2] Plot a graph  \n"
   ]
  },
  {
   "cell_type": "markdown",
   "id": "c9bb4f0d",
   "metadata": {},
   "source": [
    "#### <font color='#10BAE0 '>i. Measure Person Correlation($r$)</font> "
   ]
  },
  {
   "cell_type": "markdown",
   "id": "803b4062",
   "metadata": {},
   "source": [
    ">Correlation is a statistical measure that describes the degree to which two variables change together. In other words, it quantifies the relationship between two variables. "
   ]
  },
  {
   "cell_type": "markdown",
   "id": "dc9db9cf",
   "metadata": {},
   "source": [
    ">**Pearson Correlation Coefficient (r)**: This coefficient measures the linear relationship between two continuous variables. It ranges from -1 to 1, where:\n",
    ">- 1 indicates a perfect positive linear relationship,\n",
    ">- -1 indicates a perfect negative linear relationship, and\n",
    ">- 0 indicates weak or no linear relationship."
   ]
  },
  {
   "cell_type": "markdown",
   "id": "7e36bc73",
   "metadata": {},
   "source": [
    "> $$ r = \\frac{ \\sum (X_{i}-\\bar{X})(Y_{i} - \\bar{Y}) }{ \\sqrt{\\sum (X_{i}-\\bar{X})^{2}(Y_{i} - \\bar{Y}^{2})}} $$\n"
   ]
  },
  {
   "cell_type": "markdown",
   "id": "0080bd62",
   "metadata": {},
   "source": [
    ">**Equivalent Fortran Code**"
   ]
  },
  {
   "cell_type": "markdown",
   "id": "e3d1a2e6",
   "metadata": {},
   "source": [
    "``` Fortran\n",
    "program correlation\n",
    "      implicit none\n",
    "      ! Variable Declaration for latter use\n",
    "      integer, parameter :: max_data_points = 300\n",
    "      real :: horsepower(max_data_points), mpg(max_data_points), r\n",
    "      integer :: data_index\n",
    "      real :: sum_x, sum_y, mean_x, mean_y\n",
    "      integer :: i\n",
    "\n",
    "\n",
    "      ! Open and read train data from CSV file\n",
    "      open(unit=10, file='auto-mpg-train.csv', status='old', action='read')\n",
    "    \n",
    "      data_index = 1\n",
    "      do while (data_index <= max_data_points)\n",
    "        read(10, *, end=100) horsepower(data_index), mpg(data_index)\n",
    "        data_index = data_index + 1\n",
    "      end do\n",
    "      100 close(10) ! Close file\n",
    "\n",
    "\n",
    "      sum_x = 0.0 ; sum_y = 0.0\n",
    "\n",
    "      ! This subroutine calculate total sum and mean for both variables\n",
    "      call sum_and_mean(horsepower, mpg, sum_x, sum_y, mean_x, mean_y)\n",
    "\n",
    "      ! Calculate correlation\n",
    "      call correlate(horsepower, mpg, sum_x, sum_y, mean_x, mean_y, r)\n",
    "       \n",
    "      print *, '--------------------------------------'\n",
    "\n",
    "      print *, 'Correlation between MPG and Horsepower is : ',  r\n",
    "      \n",
    "      print *, '--------------------------------------'\n",
    "      \n",
    "\n",
    "contains\n",
    "         ! subroutine to calculate sum and mean\n",
    "        subroutine sum_and_mean(x, y, sum_x, sum_y, mean_x, mean_y)\n",
    "                implicit none\n",
    "                ! Input variable declaration\n",
    "                real, intent(in) ::  x(:)\n",
    "                real, intent(in) ::  y(:)\n",
    "\n",
    "                ! Output variable declaration\n",
    "                real, intent(out) :: sum_x, sum_y, mean_x, mean_y\n",
    "                integer :: i\n",
    "\n",
    "                do i = 1, size(x)\n",
    "                    sum_x = sum_x + x(i)\n",
    "                    sum_y  = sum_y  + y(i)\n",
    "                end do\n",
    "\n",
    "                ! Calculate the mean of x and y\n",
    "                mean_x = sum_x /size(x)\n",
    "                mean_y = sum_y /size(y)\n",
    "\n",
    "        end subroutine sum_and_mean\n",
    "        \n",
    "        subroutine correlate(x, y, sum_x, sum_y, mean_x, mean_y, r)\n",
    "                implicit none\n",
    "\n",
    "                ! Input variable declaration\n",
    "                real, intent(in) ::  x(:)\n",
    "                real, intent(in) ::  y(:)\n",
    "                real, intent(in) :: sum_x, sum_y, mean_x, mean_y\n",
    "                !Output r Variable decalation\n",
    "                real, intent(out) :: r\n",
    "                real :: covar, var_x, var_y\n",
    "                integer :: i\n",
    "\n",
    "                ! Calculate covariance and Variance\n",
    "\n",
    "                covar = 0.0; var_x = 0.0; var_y = 0.0\n",
    "                do  i =1, size(x)\n",
    "                    covar = covar + (x(i) - mean_x)*(y(i) - mean_y)\n",
    "                    var_x = var_x + (x(i) - mean_x)**2\n",
    "                    var_y = var_y + (y(i) - mean_y)**2\n",
    "\n",
    "                end do\n",
    "\n",
    "\n",
    "                !Calculating correlation\n",
    "                r = covar / sqrt(var_x*var_y)\n",
    "\n",
    "        end subroutine correlate\n",
    "\n",
    "end program correlation\n",
    "```"
   ]
  },
  {
   "cell_type": "markdown",
   "id": "41e2b81d",
   "metadata": {},
   "source": [
    "> **Python code for calculating person correlation**"
   ]
  },
  {
   "cell_type": "code",
   "execution_count": 7,
   "id": "c852a261",
   "metadata": {
    "scrolled": false
   },
   "outputs": [
    {
     "name": "stdout",
     "output_type": "stream",
     "text": [
      "Correlation -0.8002739223633892 \n"
     ]
    }
   ],
   "source": [
    "import pandas as pd \n",
    "import numpy as np\n",
    "cars_data  = pd.read_csv('auto-mpg.csv')\n",
    "mpg = cars_data['mpg'].iloc[:300] \n",
    "horsepower = cars_data['horsepower'].iloc[:300]\n",
    "print(f\"Correlation {cars_data['mpg'].corr(horsepower)} \")"
   ]
  },
  {
   "cell_type": "markdown",
   "id": "4b44cdab",
   "metadata": {},
   "source": [
    ">From the above Result, we can see that there is a Negative correlation between the Mpg and\n",
    "horsepower. This means if we increase the value of mpg the value of the horspower\n",
    "will decrease. And **-0.803** indicate that there is a significant correlation between both variables."
   ]
  },
  {
   "cell_type": "code",
   "execution_count": null,
   "id": "9c00b465",
   "metadata": {},
   "outputs": [],
   "source": []
  },
  {
   "cell_type": "markdown",
   "id": "b847ae2a",
   "metadata": {},
   "source": [
    "#### <font color='#10BAE0 '>ii. Graph Ploting </font> "
   ]
  },
  {
   "cell_type": "code",
   "execution_count": 20,
   "id": "0997c8d1",
   "metadata": {},
   "outputs": [
    {
     "data": {
      "image/png": "[encoded data removed]",
      "text/plain": [
       "<Figure size 640x480 with 1 Axes>"
      ]
     },
     "metadata": {},
     "output_type": "display_data"
    }
   ],
   "source": [
    "import numpy as np\n",
    "import seaborn as sns\n",
    "import matplotlib.pyplot as plt\n",
    "from sklearn.linear_model import LinearRegression\n",
    "\n",
    "# Assign the data for the regression variables\n",
    "\n",
    "X = np.array(horsepower).reshape((-1, 1))\n",
    "y = np.array(mpg).reshape((-1, 1))\n",
    "\n",
    "# Fit a linear regression model\n",
    "model = LinearRegression()\n",
    "model.fit(X, y)\n",
    "\n",
    "# Make predictions\n",
    "y_pred = model.predict(X)\n",
    "\n",
    "# Create a regression plot\n",
    "sns.regplot(x=X.flatten(), y=y.flatten(), ci=None, line_kws={'color': 'red'}, scatter_kws={'alpha': 0.6})\n",
    "plt.xlabel('Horsepower')\n",
    "plt.ylabel('MPG')\n",
    "plt.title('Regression Plot for Linearity Check')\n",
    "plt.show()\n"
   ]
  },
  {
   "cell_type": "markdown",
   "id": "399d8126",
   "metadata": {},
   "source": [
    ">We can see from the regression plot that there is a negative linear relationship between predictor variable horsepower and the response variable mpg. So we can built an simple illustrator model."
   ]
  },
  {
   "cell_type": "markdown",
   "id": "9fcdd5b6-0edc-48e1-97a5-31358766bd6f",
   "metadata": {},
   "source": [
    "### <font color='Green'>Solving Equations using FORTRAN:</font> "
   ]
  },
  {
   "cell_type": "markdown",
   "id": "08a13654",
   "metadata": {},
   "source": [
    ">The aim of this program is to calculate the slope and intercept of regression variables and make prediction based on it. <br>\n",
    ">I used 300 data for training the model and 98 data for testing the  model"
   ]
  },
  {
   "cell_type": "markdown",
   "id": "eddaab7b",
   "metadata": {},
   "source": [
    "```fortran\n",
    "program simple_linear_regression\n",
    "      implicit none\n",
    "      ! Variable Declaration for latter use\n",
    "      integer, parameter :: max_data_points = 300\n",
    "      real :: horsepower_train(max_data_points), mpg_train(max_data_points)\n",
    "      real :: horsepower_test(98), mpg_predict(98)\n",
    "      real :: b1, bo, predictions(98)\n",
    "      integer :: data_index\n",
    "      real :: sum_x, sum_y, mean_x, mean_y\n",
    "      integer :: i\n",
    "\n",
    "\n",
    "      ! Open and read train data from CSV file\n",
    "      open(unit=10, file='auto-mpg-train.csv', status='old', action='read')\n",
    "    \n",
    "      data_index = 1\n",
    "      do while (data_index <= max_data_points)\n",
    "        read(10, *, end=100) horsepower_train(data_index), mpg_train(data_index)\n",
    "        data_index = data_index + 1\n",
    "      end do\n",
    "      100 close(10) ! Close file\n",
    "\n",
    "      ! Open and read test data from CSV file\n",
    "      open(unit=11, file='auto-mpg-test.csv', status='old', action='read')\n",
    "      data_index = 1\n",
    "      do while (data_index <= 98)\n",
    "        read(11, *, end=101) horsepower_test(data_index)\n",
    "        data_index = data_index + 1\n",
    "      end do\n",
    "      101 close(11) ! Close file\n",
    "\n",
    "      sum_x = 0.0 ; sum_y = 0.0\n",
    "\n",
    "      ! This subroutine calculate total sum and mean for both variables\n",
    "      call sum_and_mean(horsepower_train, mpg_train, sum_x, sum_y, mean_x, mean_y)\n",
    "\n",
    "      ! Calculate slope\n",
    "      call slope(horsepower_train, mpg_train, sum_x, sum_y, mean_x, mean_y, b1)\n",
    "      !calculate coefficient\n",
    "      call intercept(b1, mean_x, mean_y, bo)\n",
    "\n",
    "        \n",
    "      print *, '--------------------------------------'\n",
    "\n",
    "      print *, 'Coefficient ',  b1\n",
    "      print *, 'Intercept',  bo\n",
    "      \n",
    "      print *, '--------------------------------------'\n",
    "      \n",
    "      !make prediction on taste data\n",
    "      call predict(bo, b1, horsepower_test, predictions)\n",
    "\n",
    "      !Display predicted output\n",
    "      do i = 1, 6\n",
    "        write (*,*) 'X = ', horsepower_test(i), ', Predicted Y = ', predictions(i)\n",
    "      end do\n",
    "\n",
    "\n",
    "\n",
    "contains\n",
    "\n",
    "        subroutine sum_and_mean(x, y, sum_x, sum_y, mean_x, mean_y)\n",
    "                implicit none\n",
    "                ! Input variable declaration\n",
    "                real, intent(in) ::  x(:)\n",
    "                real, intent(in) ::  y(:)\n",
    "\n",
    "                ! Output variable declaration\n",
    "                real, intent(out) :: sum_x, sum_y, mean_x, mean_y\n",
    "                integer :: i\n",
    "\n",
    "                do i = 1, size(x)\n",
    "                    sum_x = sum_x + x(i)\n",
    "                    sum_y  = sum_y  + y(i)\n",
    "                end do\n",
    "\n",
    "                ! Calculate the mean of x and y\n",
    "                mean_x = sum_x /size(x)\n",
    "                mean_y = sum_y /size(y)\n",
    "\n",
    "        end subroutine sum_and_mean\n",
    "\n",
    "        subroutine slope(x, y, sum_x, sum_y, mean_x, mean_y, b1)\n",
    "                implicit none\n",
    "\n",
    "                ! Input variable declaration\n",
    "                real, intent(in) ::  x(:)\n",
    "                real, intent(in) ::  y(:)\n",
    "                real, intent(in) :: sum_x, sum_y, mean_x, mean_y\n",
    "                !Output Slope Variable decalation\n",
    "                real, intent(out) :: b1\n",
    "                real :: covar, var\n",
    "                integer :: i\n",
    "\n",
    "                ! Calculate covariance and Variance\n",
    "\n",
    "                covar = 0.0; var = 0.0\n",
    "                do  i =1, size(x)\n",
    "                    covar = covar + (x(i) - mean_x)*(y(i) - mean_y)\n",
    "                    var = var + (x(i) - mean_x)**2\n",
    "                end do\n",
    "\n",
    "\n",
    "                !Calculating slope \n",
    "                b1 = covar / var\n",
    "\n",
    "        end subroutine slope\n",
    "        subroutine intercept(b1,mean_x,mean_y, bo)\n",
    "               implicit none\n",
    "               ! Input variable declaration\n",
    "               real, intent(in) ::  b1\n",
    "               real, intent(in) ::  mean_x, mean_y\n",
    "               ! Output slope  variable declaration\n",
    "               real, intent(out) :: bo\n",
    "\n",
    "               bo = mean_y - b1*mean_x\n",
    "\n",
    "        end subroutine intercept\n",
    "\n",
    "        subroutine predict(bo, b1, new_x, predictions)\n",
    "                implicit none\n",
    "                real, intent(in):: bo, b1, new_x(:)\n",
    "                real, intent(out):: predictions(:)\n",
    "                integer i\n",
    "\n",
    "\n",
    "                do i=1, size(new_x)\n",
    "                        predictions(i) = bo - b1 * new_x(i)\n",
    "                end do\n",
    "\n",
    "        end subroutine predict\n",
    "\n",
    "end program simple_linear_regression\n",
    "\n",
    "```\n",
    "\n"
   ]
  },
  {
   "cell_type": "markdown",
   "id": "fdcc4cc4",
   "metadata": {},
   "source": [
    "### <font color='Green'>Interpretaion of the Model:</font> "
   ]
  },
  {
   "cell_type": "markdown",
   "id": "160a0081",
   "metadata": {},
   "source": [
    "**Slope $(m): -0.1251$**\n",
    "The negative sign of the slope indicates an inverse relationship between the mpg and horsepower.\n",
    "The slope represents the change in the dependent variable (mpg) for a one-unit change in the independent variable (horsepower).\n",
    "In this case, for every one-unit increase in the independent variable, the dependent variable decreases by 0.1251 units.\n",
    "\n",
    "**Coefficient of regression variables** $(b): 34.8073$\n",
    "\n",
    "The coefficient of the regression variable represents the y-intercept, the value of the dependent variable (Y) when the independent variable (x) is zero(the value of the dependent variable (mpg) when the independent variable (horsepower) is zero.)\n",
    "In this case, when the independent variable is zero, the predicted value of the dependent variable is 34.8073.\n",
    "So, you could interpret the results as follows:\n",
    "\n",
    "The dependent variable is expected to decrease by approximately 0.1251 units for every one-unit increase in the independent variable.\n",
    "When the independent variable is zero, the predicted value of the dependent variable is approximately 34.8073."
   ]
  },
  {
   "cell_type": "markdown",
   "id": "66eb5382",
   "metadata": {},
   "source": [
    "**<font color = green>NOTE</font>** -This project is just to show how to calcualte simple linear regression to find the relationship between two variables. In does't mean that the horsepower is enough predictor of fuel efficiency. We can add more independet variables to accurate our model in this case our model sayed to be **<font color = green>\"Multiple Linear Regression\" Model</font>**"
   ]
  }
 ],
 "metadata": {
  "kernelspec": {
   "display_name": "Python 3 (ipykernel)",
   "language": "python",
   "name": "python3"
  },
  "language_info": {
   "codemirror_mode": {
    "name": "ipython",
    "version": 3
   },
   "file_extension": ".py",
   "mimetype": "text/x-python",
   "name": "python",
   "nbconvert_exporter": "python",
   "pygments_lexer": "ipython3",
   "version": "3.11.5"
  }
 },
 "nbformat": 4,
 "nbformat_minor": 5
}
